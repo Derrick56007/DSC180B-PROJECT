{
 "cells": [
  {
   "cell_type": "code",
   "execution_count": 2,
   "metadata": {},
   "outputs": [],
   "source": [
    "%load_ext autoreload\n",
    "%autoreload 2"
   ]
  },
  {
   "cell_type": "code",
   "execution_count": 9,
   "metadata": {},
   "outputs": [],
   "source": [
    "import sys\n",
    "import json\n",
    "import subprocess\n",
    "import os\n",
    "import gzip\n",
    "import pandas as pd\n",
    "import tarfile\n",
    "import numpy as np\n",
    "import math\n",
    "\n",
    "# add library code to path\n",
    "sys.path.insert(0, r'src/')"
   ]
  },
  {
   "cell_type": "code",
   "execution_count": 4,
   "metadata": {},
   "outputs": [],
   "source": [
    "cfg = json.load(open(\"../config/config.json\"))"
   ]
  },
  {
   "cell_type": "code",
   "execution_count": 5,
   "metadata": {},
   "outputs": [],
   "source": [
    "def mkdir(d):\n",
    "    if not os.path.exists(d):\n",
    "        os.mkdir(d)"
   ]
  },
  {
   "cell_type": "code",
   "execution_count": 6,
   "metadata": {},
   "outputs": [],
   "source": [
    "mkdir('../data')\n",
    "\n",
    "file_url = 'https://www.ncbi.nlm.nih.gov/geo/download/?acc=GSE44639&format=file'\n",
    "\n",
    "import requests\n",
    "\n",
    "r = requests.get(file_url, stream=True)\n",
    "\n",
    "with open(\"../data/raw/GSE44639_RAW.tar\", 'wb') as f:\n",
    "    for chunk in r.iter_content():\n",
    "        f.write(chunk)"
   ]
  },
  {
   "cell_type": "code",
   "execution_count": 7,
   "metadata": {},
   "outputs": [],
   "source": [
    "def read_file_type(health_types, cell_types, tmp='../data/temp/'):\n",
    "    tar = tarfile.open(\"../data/raw/GSE44639_RAW.tar\")\n",
    "\n",
    "    mkdir(tmp)\n",
    "    tar.extractall(tmp)\n",
    "    \n",
    "    df = pd.DataFrame(columns=['miRNA', 'Chromosome', 'Position', 'Strand', 'Total miRNA reads', 'RPM (reads per million)', 'healthy', 'subset'])\n",
    "    \n",
    "    for name in tar.getnames():\n",
    "        subset = name.split('_')[-1].split('.')[0]\n",
    "        health_type = name[4:].split('_')[1][0]\n",
    "        \n",
    "        if subset in cell_types and health_type in health_types:\n",
    "            df1 = pd.read_csv(gzip.open(tmp + name,'rt'), sep='\\t')\n",
    "            df1['healthy'] = 'M' in name[4:]\n",
    "            df1['subset'] = subset\n",
    "            \n",
    "            if len(df1.columns) != len(df.columns):\n",
    "                continue\n",
    "            \n",
    "            df = pd.concat([df, df1])\n",
    "            \n",
    "    return df\n",
    "\n",
    "df = read_file_type(['M', 'P'], ['rTreg', 'aTreg', 'Naive', 'Tcm', 'Tem', 'Ttm'])"
   ]
  },
  {
   "cell_type": "code",
   "execution_count": 10,
   "metadata": {},
   "outputs": [
    {
     "name": "stdout",
     "output_type": "stream",
     "text": [
      "0.04825691730306118\n",
      "0.11508724845189022\n",
      "0.13546555658348397\n",
      "0.16603060891271407\n",
      "0.1771316392405029\n",
      "0.2609425077982817\n",
      "0.3419060940946833\n",
      "0.3930189341224282\n",
      "0.43540099055732\n",
      "0.48939382595524983\n",
      "0.5105729073005415\n",
      "0.535598405194817\n",
      "0.6072166192821604\n",
      "0.6800591433649504\n",
      "0.7027840191058918\n",
      "0.724456763514292\n",
      "0.7382344441743935\n",
      "0.7438397234480908\n",
      "0.7595873506936855\n",
      "0.7618675038690337\n",
      "0.7961359584066365\n",
      "0.8000640187920757\n",
      "0.8303398873083138\n",
      "0.8332800063594332\n",
      "0.8333090735212004\n",
      "0.8532778071723918\n",
      "0.8781901456671592\n",
      "0.9048287091013885\n",
      "0.9251562281123622\n",
      "0.9533872063694044\n",
      "0.9787039116204924\n",
      "1.0136104247932374\n",
      "1.0302334421969566\n",
      "1.0474742549560276\n",
      "1.0568344779394219\n",
      "1.0645688147802315\n",
      "1.0966924691430162\n",
      "1.0992694437066861\n",
      "1.1201542825365844\n",
      "1.1279015289452472\n",
      "1.138257675338465\n",
      "1.1514891214024647\n",
      "1.1821173687016866\n",
      "1.2045129210495282\n",
      "1.2429239710183106\n",
      "1.2519886025668123\n",
      "1.2634987713653814\n",
      "1.272729473586507\n",
      "1.2858232666241665\n",
      "1.3105393541239716\n",
      "1.3298277367031066\n",
      "1.3306932848039899\n",
      "1.3480868651277955\n",
      "1.3740630130675653\n",
      "1.4156353488619358\n",
      "1.4178305121202759\n",
      "1.4203154178463049\n",
      "1.4223959405740911\n",
      "1.4480118756243108\n",
      "1.4701335240278517\n",
      "1.485019135625296\n",
      "1.4877234016581484\n",
      "1.4906525895214364\n",
      "1.5026206555160881\n",
      "1.5168029251416815\n",
      "1.5204277365936196\n",
      "1.5295543214559355\n",
      "1.5322469199159254\n",
      "1.5382470977028506\n",
      "1.548613745530878\n",
      "1.5716962839709276\n",
      "1.594955013083691\n",
      "1.6035469745844486\n",
      "1.6420246017281526\n",
      "1.660734007237107\n",
      "1.665037592586429\n",
      "1.6818626089348137\n",
      "1.6986438827440513\n",
      "1.7131526386354483\n"
     ]
    },
    {
     "name": "stderr",
     "output_type": "stream",
     "text": [
      "/opt/conda/lib/python3.7/site-packages/ipykernel_launcher.py:6: SettingWithCopyWarning: \n",
      "A value is trying to be set on a copy of a slice from a DataFrame.\n",
      "Try using .loc[row_indexer,col_indexer] = value instead\n",
      "\n",
      "See the caveats in the documentation: http://pandas.pydata.org/pandas-docs/stable/user_guide/indexing.html#returning-a-view-versus-a-copy\n",
      "  \n"
     ]
    },
    {
     "data": {
      "text/plain": [
       "3.6084456471678403"
      ]
     },
     "execution_count": 10,
     "metadata": {},
     "output_type": "execute_result"
    }
   ],
   "source": [
    "import math\n",
    "\n",
    "def absF(df, miRNA_name):\n",
    "    # get only rows of the miRNA\n",
    "    miRNAdf = df[df['miRNA'] == miRNA_name]\n",
    "    miRNAdf['RPM (reads per million)'] = miRNAdf['RPM (reads per million)'].apply(lambda x: np.log2(x))\n",
    "    N = len(miRNAdf)\n",
    "    \n",
    "    # calculate numerator\n",
    "    meanY = miRNAdf['RPM (reads per million)'].astype(int).mean()\n",
    "    groups = miRNAdf[['healthy', 'subset']].drop_duplicates()\n",
    "    K = len(groups)\n",
    "    \n",
    "    numerator = 0\n",
    "    denominator = 0\n",
    "\n",
    "    for row in groups.iterrows():\n",
    "#         print(row, row[1][1])\n",
    "        health = row[1][0]\n",
    "        cellType = row[1][1]\n",
    "#         print((miRNAdf['healthy'] == health) and (miRNAdf['subset'] == cellType))\n",
    "        groupDF = miRNAdf[(miRNAdf['healthy'] == health) & (miRNAdf['subset'] == cellType)]\n",
    "        # mean Yi\n",
    "        meanYi = groupDF['RPM (reads per million)'].astype(int).mean()\n",
    "        numerator += np.abs(meanYi - meanY)*len(groupDF)/(K - 1)\n",
    "\n",
    "    for sample in groupDF.iterrows():\n",
    "        denominator += np.abs(sample[1][5] - meanYi)/(N - K)\n",
    "\n",
    "        print(denominator)\n",
    "            \n",
    "    return numerator / denominator\n",
    "\n",
    "absF(df, 'hsa-let-7a')"
   ]
  },
  {
   "cell_type": "code",
   "execution_count": 59,
   "metadata": {},
   "outputs": [],
   "source": [
    "# prefix M = healthy, prefix P = unhealthy\n",
    "# miRNA only appear on one type of chromosome\n",
    "healthy_naiveDF['RPM (reads per million)'] = healthy_naiveDF['RPM (reads per million)'].astype(int)\n",
    "mean_healthy = healthy_naiveDF.groupby('miRNA').mean()"
   ]
  },
  {
   "cell_type": "code",
   "execution_count": null,
   "metadata": {},
   "outputs": [],
   "source": [
    "healthy_naiveDF['RPM (reads per million)'] = healthy_naiveDF['RPM (reads per million)'].astype(int)\n",
    "mean_healthy = healthy_naiveDF.groupby('miRNA').mean()"
   ]
  },
  {
   "cell_type": "code",
   "execution_count": 9,
   "metadata": {},
   "outputs": [
    {
     "ename": "TypeError",
     "evalue": "cannot convert the series to <class 'float'>",
     "output_type": "error",
     "traceback": [
      "\u001b[0;31m---------------------------------------------------------------------------\u001b[0m",
      "\u001b[0;31mTypeError\u001b[0m                                 Traceback (most recent call last)",
      "\u001b[0;32m<ipython-input-9-6eddabf65210>\u001b[0m in \u001b[0;36m<module>\u001b[0;34m\u001b[0m\n\u001b[0;32m----> 1\u001b[0;31m \u001b[0mdf\u001b[0m\u001b[0;34m[\u001b[0m\u001b[0;34m'log2RPM'\u001b[0m\u001b[0;34m]\u001b[0m \u001b[0;34m=\u001b[0m \u001b[0mmath\u001b[0m\u001b[0;34m.\u001b[0m\u001b[0mlog\u001b[0m\u001b[0;34m(\u001b[0m\u001b[0mdf\u001b[0m\u001b[0;34m[\u001b[0m\u001b[0;34m'RPM (reads per million)'\u001b[0m\u001b[0;34m]\u001b[0m\u001b[0;34m,\u001b[0m \u001b[0;36m2\u001b[0m\u001b[0;34m)\u001b[0m\u001b[0;34m\u001b[0m\u001b[0;34m\u001b[0m\u001b[0m\n\u001b[0m",
      "\u001b[0;32m/opt/conda/lib/python3.7/site-packages/pandas/core/series.py\u001b[0m in \u001b[0;36mwrapper\u001b[0;34m(self)\u001b[0m\n\u001b[1;32m    129\u001b[0m         \u001b[0;32mif\u001b[0m \u001b[0mlen\u001b[0m\u001b[0;34m(\u001b[0m\u001b[0mself\u001b[0m\u001b[0;34m)\u001b[0m \u001b[0;34m==\u001b[0m \u001b[0;36m1\u001b[0m\u001b[0;34m:\u001b[0m\u001b[0;34m\u001b[0m\u001b[0;34m\u001b[0m\u001b[0m\n\u001b[1;32m    130\u001b[0m             \u001b[0;32mreturn\u001b[0m \u001b[0mconverter\u001b[0m\u001b[0;34m(\u001b[0m\u001b[0mself\u001b[0m\u001b[0;34m.\u001b[0m\u001b[0miloc\u001b[0m\u001b[0;34m[\u001b[0m\u001b[0;36m0\u001b[0m\u001b[0;34m]\u001b[0m\u001b[0;34m)\u001b[0m\u001b[0;34m\u001b[0m\u001b[0;34m\u001b[0m\u001b[0m\n\u001b[0;32m--> 131\u001b[0;31m         \u001b[0;32mraise\u001b[0m \u001b[0mTypeError\u001b[0m\u001b[0;34m(\u001b[0m\u001b[0;34m\"cannot convert the series to \"\u001b[0m \u001b[0;34m\"{0}\"\u001b[0m\u001b[0;34m.\u001b[0m\u001b[0mformat\u001b[0m\u001b[0;34m(\u001b[0m\u001b[0mstr\u001b[0m\u001b[0;34m(\u001b[0m\u001b[0mconverter\u001b[0m\u001b[0;34m)\u001b[0m\u001b[0;34m)\u001b[0m\u001b[0;34m)\u001b[0m\u001b[0;34m\u001b[0m\u001b[0;34m\u001b[0m\u001b[0m\n\u001b[0m\u001b[1;32m    132\u001b[0m \u001b[0;34m\u001b[0m\u001b[0m\n\u001b[1;32m    133\u001b[0m     \u001b[0mwrapper\u001b[0m\u001b[0;34m.\u001b[0m\u001b[0m__name__\u001b[0m \u001b[0;34m=\u001b[0m \u001b[0;34m\"__{name}__\"\u001b[0m\u001b[0;34m.\u001b[0m\u001b[0mformat\u001b[0m\u001b[0;34m(\u001b[0m\u001b[0mname\u001b[0m\u001b[0;34m=\u001b[0m\u001b[0mconverter\u001b[0m\u001b[0;34m.\u001b[0m\u001b[0m__name__\u001b[0m\u001b[0;34m)\u001b[0m\u001b[0;34m\u001b[0m\u001b[0;34m\u001b[0m\u001b[0m\n",
      "\u001b[0;31mTypeError\u001b[0m: cannot convert the series to <class 'float'>"
     ]
    }
   ],
   "source": [
    "df['log2RPM'] = df['RPM (reads per million)']"
   ]
  },
  {
   "cell_type": "code",
   "execution_count": 39,
   "metadata": {},
   "outputs": [
    {
     "ename": "NameError",
     "evalue": "name 'healthy_naiveDF' is not defined",
     "output_type": "error",
     "traceback": [
      "\u001b[0;31m---------------------------------------------------------------------------\u001b[0m",
      "\u001b[0;31mNameError\u001b[0m                                 Traceback (most recent call last)",
      "\u001b[0;32m<ipython-input-39-a39da2c39ebd>\u001b[0m in \u001b[0;36m<module>\u001b[0;34m\u001b[0m\n\u001b[0;32m----> 1\u001b[0;31m \u001b[0mhealthy_naiveDF\u001b[0m\u001b[0;34m\u001b[0m\u001b[0;34m\u001b[0m\u001b[0m\n\u001b[0m",
      "\u001b[0;31mNameError\u001b[0m: name 'healthy_naiveDF' is not defined"
     ]
    }
   ],
   "source": [
    "healthy_naiveDF"
   ]
  },
  {
   "cell_type": "code",
   "execution_count": null,
   "metadata": {},
   "outputs": [],
   "source": []
  }
 ],
 "metadata": {
  "kernelspec": {
   "display_name": "Python 3",
   "language": "python",
   "name": "python3"
  },
  "language_info": {
   "codemirror_mode": {
    "name": "ipython",
    "version": 3
   },
   "file_extension": ".py",
   "mimetype": "text/x-python",
   "name": "python",
   "nbconvert_exporter": "python",
   "pygments_lexer": "ipython3",
   "version": "3.7.3"
  }
 },
 "nbformat": 4,
 "nbformat_minor": 4
}
