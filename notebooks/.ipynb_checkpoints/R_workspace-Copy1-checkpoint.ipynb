{
 "cells": [
  {
   "cell_type": "code",
   "execution_count": null,
   "metadata": {},
   "outputs": [],
   "source": [
    "# http://combine-australia.github.io/RNAseq-R/06-rnaseq-day1.html"
   ]
  },
  {
   "cell_type": "code",
   "execution_count": null,
   "metadata": {},
   "outputs": [],
   "source": [
    "# if (!requireNamespace(\"BiocManager\", quietly = TRUE))\n",
    "#     install.packages(\"BiocManager\")\n",
    "# BiocManager::install(\"gplots\")\n",
    "# biocLite(\"limma\")\n",
    "install.packages('ggrepel')\n"
   ]
  },
  {
   "cell_type": "code",
   "execution_count": null,
   "metadata": {},
   "outputs": [],
   "source": [
    "version"
   ]
  },
  {
   "cell_type": "code",
   "execution_count": null,
   "metadata": {},
   "outputs": [],
   "source": [
    "library(limma)\n",
    "library(reshape2)\n",
    "library(Glimma)\n",
    "library(ggplot2)\n",
    "library(ggrepel)\n",
    "# library(reshape)\n",
    "library(edgeR)\n",
    "library(gplots)\n",
    "library(amap)\n",
    "# library(Mus.musculus)"
   ]
  },
  {
   "cell_type": "code",
   "execution_count": null,
   "metadata": {},
   "outputs": [],
   "source": [
    "\n",
    "# change this\n",
    "setwd(\"C:\\\\Users\\\\Pete\\\\DSC180B-PROJECT\")"
   ]
  },
  {
   "cell_type": "code",
   "execution_count": null,
   "metadata": {},
   "outputs": [],
   "source": [
    "file_url = 'https://www.ncbi.nlm.nih.gov/geo/download/?acc=GSE44639&format=file'            \n",
    "raw_dir = \"data/raw/\"\n",
    "temp_dir = \"data/temp/\"\n",
    "file_name = 'GSE44639_RAW.tar'"
   ]
  },
  {
   "cell_type": "code",
   "execution_count": null,
   "metadata": {
    "scrolled": true
   },
   "outputs": [],
   "source": [
    "ingest_data <- function(file_url, file_name, raw_dir, temp_dir) {\n",
    "    if (!dir.exists(raw_dir)) {\n",
    "        dir.create(raw_dir, recursive = TRUE)\n",
    "    }\n",
    "    out = paste(raw_dir, file_name, sep=\"\")\n",
    "    utils::download.file(file_url, destfile=out, mode=\"wb\")\n",
    "    utils::untar(out, exdir=temp_dir)\n",
    "}\n",
    "\n",
    "ingest_data(file_url, file_name, raw_dir, temp_dir)"
   ]
  },
  {
   "cell_type": "code",
   "execution_count": null,
   "metadata": {},
   "outputs": [],
   "source": [
    "read_all_files_in_dir_with_columns <- function(file_dir, required_columns) {\n",
    "    files <- list.files(path=file_dir)\n",
    "    \n",
    "    all <- list()\n",
    "    \n",
    "    for (i in files) {\n",
    "        fp <- paste(file_dir, i, sep='')\n",
    "        seqdata <- read.delim(gzfile(fp), stringsAsFactors = FALSE)\n",
    "        columns <- colnames(seqdata)\n",
    "        \n",
    "        has_unidentified_col <- FALSE\n",
    "        \n",
    "        # ignore samples with columns not present in required_columns\n",
    "        for (c in columns) {\n",
    "            if (!any(required_columns==c)) {\n",
    "                has_unidentified_col <- TRUE\n",
    "                break\n",
    "            }\n",
    "        }\n",
    "        \n",
    "        if (has_unidentified_col) {\n",
    "            next\n",
    "        }\n",
    "        \n",
    "        sampleName = strsplit(fp, \"/\")[[1]][3]\n",
    "        sampleName = strsplit(sampleName, \".txt\")[[1]][1]\n",
    "        \n",
    "        \n",
    "        cellType = strsplit(fp, \"_\")[1]\n",
    "        cellType = cellType[[1]][3]\n",
    "        cellType = strsplit(cellType, \".txt\")\n",
    "        cellType = cellType[[1]][1]\n",
    "        \n",
    "        healthy <- !grepl(\"P\", fp, fixed=TRUE)\n",
    "        \n",
    "        # add healthy column\n",
    "        seqdata$healthy <- healthy\n",
    "        seqdata$cellType <- cellType\n",
    "        seqdata$sampleName <- sampleName\n",
    "        \n",
    "        if (length(all) == 0) {\n",
    "            all <- seqdata\n",
    "        } else {\n",
    "            all <- rbind(all, seqdata)\n",
    "        }\n",
    "    }\n",
    "    \n",
    "    return(all)\n",
    "}\n",
    "\n",
    "required_columns <- list(\"miRNA\", \"Chromosome\", \"Position\", \"Strand\", \"Total.miRNA.reads\", \"RPM..reads.per.million.\")\n",
    "all <- read_all_files_in_dir_with_columns(temp_dir, required_columns)"
   ]
  },
  {
   "cell_type": "code",
   "execution_count": null,
   "metadata": {},
   "outputs": [],
   "source": [
    "unique(all['cellType'])"
   ]
  },
  {
   "cell_type": "markdown",
   "metadata": {},
   "source": [
    "# TEST USING MANUALLY CALCULATED RPM\n"
   ]
  },
  {
   "cell_type": "code",
   "execution_count": null,
   "metadata": {},
   "outputs": [],
   "source": [
    "countmatrix <- dcast(all, miRNA ~ sampleName, value.var= \"Total.miRNA.reads\", fill= 0)\n",
    "rownames(countmatrix) <- countmatrix$miRNA\n",
    "countmatrix$miRNA <- NULL\n",
    "\n",
    "testcpm <- cpm(countmatrix)\n",
    "testcpm"
   ]
  },
  {
   "cell_type": "code",
   "execution_count": null,
   "metadata": {},
   "outputs": [],
   "source": [
    "countmatrix"
   ]
  },
  {
   "cell_type": "code",
   "execution_count": null,
   "metadata": {},
   "outputs": [],
   "source": [
    "# Which values in myCPM are greater than 0.5?\n",
    "thresh <- testcpm > 100\n",
    "# This produces a logical matrix with TRUEs and FALSEs\n",
    "head(thresh)"
   ]
  },
  {
   "cell_type": "code",
   "execution_count": null,
   "metadata": {},
   "outputs": [],
   "source": [
    "table(rowSums(thresh))"
   ]
  },
  {
   "cell_type": "code",
   "execution_count": null,
   "metadata": {},
   "outputs": [],
   "source": [
    "# we would like to keep genes that have at least 5 TRUES in each row of thresh\n",
    "keep <- rowSums(thresh) >= 9\n",
    "# Subset the rows of countdata to keep the more highly expressed genes\n",
    "counts.keep <- countdata[keep,]\n",
    "summary(keep)"
   ]
  },
  {
   "cell_type": "code",
   "execution_count": null,
   "metadata": {},
   "outputs": [],
   "source": [
    "dim(counts.keep)\n"
   ]
  },
  {
   "cell_type": "code",
   "execution_count": null,
   "metadata": {},
   "outputs": [],
   "source": [
    "y <- DGEList(counts.keep)\n",
    "# Apply normalisation to DGEList object\n",
    "y <- calcNormFactors(y)\n",
    "y"
   ]
  },
  {
   "cell_type": "code",
   "execution_count": null,
   "metadata": {},
   "outputs": [],
   "source": []
  },
  {
   "cell_type": "code",
   "execution_count": null,
   "metadata": {},
   "outputs": [],
   "source": [
    "sampleinfo <- all[row.names(unique(all[,c(\"sampleName\", \"cellType\", \"healthy\")])),][,c(\"sampleName\", \"healthy\", \"cellType\")]\n",
    "row.names(sampleinfo) <- NULL\n",
    "\n",
    "data.frame(sampleinfo$CellType)\n",
    "head(sampleinfo)"
   ]
  },
  {
   "cell_type": "code",
   "execution_count": null,
   "metadata": {},
   "outputs": [],
   "source": [
    "labels <- paste(sampleinfo$sampleName, sampleinfo$cellType, sampleinfo$healthy)\n",
    "group <- paste(sampleinfo$cellType,sampleinfo$healthy,sep=\".\")\n",
    "group <- factor(group)\n",
    "glMDSPlot(y, labels=labels, groups=group, folder=\"mds\")"
   ]
  },
  {
   "cell_type": "code",
   "execution_count": null,
   "metadata": {},
   "outputs": [],
   "source": [
    "# our groups\n",
    "group"
   ]
  },
  {
   "cell_type": "code",
   "execution_count": null,
   "metadata": {},
   "outputs": [],
   "source": [
    "# Specify a design matrix without an intercept term\n",
    "design <- model.matrix(~ 0 + group)"
   ]
  },
  {
   "cell_type": "code",
   "execution_count": null,
   "metadata": {},
   "outputs": [],
   "source": [
    "colnames(design) <- levels(group)"
   ]
  },
  {
   "cell_type": "code",
   "execution_count": null,
   "metadata": {
    "scrolled": true
   },
   "outputs": [],
   "source": [
    "par(mfrow=c(1,1))\n",
    "v <- voom(y,design,plot = TRUE)"
   ]
  },
  {
   "cell_type": "code",
   "execution_count": null,
   "metadata": {},
   "outputs": [],
   "source": [
    "y"
   ]
  },
  {
   "cell_type": "code",
   "execution_count": null,
   "metadata": {
    "scrolled": true
   },
   "outputs": [],
   "source": [
    "fit <- lmFit(v)\n",
    "names(fit)"
   ]
  },
  {
   "cell_type": "code",
   "execution_count": null,
   "metadata": {},
   "outputs": [],
   "source": [
    "# we want to compare healthy naive cells to pre-t1 naive cells\n",
    "cont.matrix <- makeContrasts(B.healthVsdiab=Naive.TRUE - Naive.FALSE,levels=design)\n",
    "cont.matrix"
   ]
  },
  {
   "cell_type": "code",
   "execution_count": null,
   "metadata": {},
   "outputs": [],
   "source": [
    "fit.cont <- contrasts.fit(fit, cont.matrix)\n",
    "fit.cont <- eBayes(fit.cont)\n",
    "dim(fit.cont)\n"
   ]
  },
  {
   "cell_type": "code",
   "execution_count": null,
   "metadata": {},
   "outputs": [],
   "source": [
    "summa.fit <- decideTests(fit.cont)\n",
    "summary(summa.fit)"
   ]
  },
  {
   "cell_type": "code",
   "execution_count": null,
   "metadata": {},
   "outputs": [],
   "source": []
  },
  {
   "cell_type": "markdown",
   "metadata": {},
   "source": [
    "# END TEST"
   ]
  },
  {
   "cell_type": "code",
   "execution_count": null,
   "metadata": {},
   "outputs": [],
   "source": []
  },
  {
   "cell_type": "code",
   "execution_count": null,
   "metadata": {},
   "outputs": [],
   "source": [
    "#subset the pre-t1 group from all\n",
    "pret1 <- all[all$healthy == FALSE,] \n",
    "naive <- all[all$cellType == 'Naive',] \n"
   ]
  },
  {
   "cell_type": "code",
   "execution_count": null,
   "metadata": {},
   "outputs": [],
   "source": [
    "countdata <- dcast(naive, miRNA ~ sampleName, value.var= \"Total.miRNA.reads\", fill= 0)\n",
    "\n",
    "rownames(countdata) <- countdata$miRNA\n",
    "countdata$miRNA <- NULL\n",
    "countdata"
   ]
  },
  {
   "cell_type": "code",
   "execution_count": null,
   "metadata": {},
   "outputs": [],
   "source": [
    "group<-factor(c(rep(\"pret1Naive\",6),rep(\"healthyNaive\",7)))\n",
    "\n",
    "# # create model\n",
    "# design2<-model.matrix(~0+group)\n",
    "# design1<-model.matrix(~group)\n",
    "# design<-cbind(design1[,1],design1[,3],design2[,1],design1[,4:6])\n",
    "# # colnames(design)<-c(\"(Intercept)\",\"grouprTreg\",\"groupaTreg\",\"groupTcm\",\"groupTem\",\"groupTtm\")\n",
    "# design\n"
   ]
  },
  {
   "cell_type": "code",
   "execution_count": null,
   "metadata": {
    "scrolled": true
   },
   "outputs": [],
   "source": [
    "d <- DGEList(counts=countdata,group=group)\n",
    "\n",
    "# #filter, need counts over 1 in 6 samples\n",
    "# keep <- rowSums(cpm(d)>1) >= 6\n",
    "# d <- d[keep,]\n",
    "dim (d)"
   ]
  },
  {
   "cell_type": "code",
   "execution_count": null,
   "metadata": {},
   "outputs": [],
   "source": [
    "nf<-calcNormFactors(d$counts)\n",
    "design<-model.matrix(~group)\n",
    "design"
   ]
  },
  {
   "cell_type": "code",
   "execution_count": null,
   "metadata": {},
   "outputs": [],
   "source": [
    "nf<-calcNormFactors(d$counts)\n",
    "y<-voom(d$counts,plot=TRUE,design,lib.size=colSums(d$counts)*nf)\n",
    "\n",
    "fit <- lmFit(y,design)\n",
    "fit <- eBayes(fit)\n",
    "summary(decideTests(fit))\n",
    "degene<-topTable(fit,coef=2,n=5)"
   ]
  },
  {
   "cell_type": "code",
   "execution_count": null,
   "metadata": {},
   "outputs": [],
   "source": [
    "topTable(fit,coef=2, sort.by='logFC',number=20)"
   ]
  },
  {
   "cell_type": "code",
   "execution_count": null,
   "metadata": {},
   "outputs": [],
   "source": [
    "topTable(fit,coef=2, sort.by='logFC',number=10)"
   ]
  },
  {
   "cell_type": "code",
   "execution_count": null,
   "metadata": {},
   "outputs": [],
   "source": [
    "par(mfrow=c(1,2))\n",
    "plotMD(fit,coef=1, values = c(-1, 1))\n",
    "\n",
    "# For the volcano plot we have to specify how many of the top genes to highlight.\n",
    "# We can also specify that we want to plot the gene symbol for the highlighted genes.\n",
    "# let's highlight the top 100 most DE genes\n",
    "volcanoplot(fit,coef=1,highlight=20,names=rownames(fit))\n",
    "title('Healthy vs Pre-T1D in Naive Cells')"
   ]
  },
  {
   "cell_type": "code",
   "execution_count": null,
   "metadata": {},
   "outputs": [],
   "source": [
    "# topTable(fit,coef=2,sort.by=\"p\", n = \"Inf\")\n"
   ]
  },
  {
   "cell_type": "code",
   "execution_count": null,
   "metadata": {},
   "outputs": [],
   "source": [
    "# selects only rtreg and atreg\n",
    "c1<- countdata[8:20]+0.5\n",
    "group<-factor(c(rep(\"rTreg\",7),rep(\"aTreg\",6)))\n",
    "d <- DGEList(counts=c1,group=group)\n",
    "d$samples\n",
    "dd <- d[rowSums(d$counts) >= 1.5*ncol(d), ]\n",
    "d<-1e+06 * dd$count/expandAsMatrix(d$samples$lib.size,dim(dd))\n",
    "\n",
    "d<-log2(d)\n",
    "\n",
    "F<-data.frame(nrow(d))\n",
    "\n",
    "\n",
    "x<-data.frame(nrow(d),2)\n",
    "\n",
    "# ABS F FUNCTION\n",
    "for (i in 1:nrow(d)) { # for each mirna\n",
    "    a<-7*abs(mean(d[i,1:7])-mean(d[i,1:13]))+6*abs(mean(d[i,8:13])-mean(d[i,1:13]))\n",
    "    # mean of the first group - mean of all groups for each mirna, + the difference in means between the second group and all mirna\n",
    "    # MULTIPLY EACH ABS DIFF BY THE GROUP SIZE.\n",
    "    bb = 0\n",
    "    for (j in 1:7) { # FIRST GROUP\n",
    "        b<-abs(d[i,j]-mean(d[i,1:7]))\n",
    "        bb = bb +b\n",
    "        }\n",
    "\n",
    "    for (j in 8:13) { # SECOND GROUP\n",
    "        b<-abs(d[i,j]-mean(d[i,8:13]))\n",
    "        bb = bb +b\n",
    "    }\n",
    "\n",
    "    F[i]<-12*a/bb\n",
    "\n",
    "    x[i,2]<-mean(d[i,1:7])\n",
    "    x[i,1]<-mean(d[i,8:13])\n",
    "\n",
    "}\n",
    "\n",
    "# F is a vector with the absF score for each mirna.\n",
    "names(F)<-rownames(d)\n",
    "rownames(x)<-rownames(d)\n",
    "length(F[F>9.6,])\n",
    "\n",
    "## 93 for rTreg 2 aTreg\n",
    "# 109\n",
    "\n",
    "mydist<-function(c) {\n",
    "require(amap)\n",
    "Dist(c,method=\"pearson\")\n",
    " }\n",
    "myclust<-function(c) { hclust(c,method='ward.D') }\n",
    "heatmap.2(d,distfun=mydist,hclustfun=myclust,trace=\"none\",cexRow=1.0,cexCol=1.2,las=2,col=greenred(30),lhei=c(1,7),scale=\"row\",sepcolor=\"yellow\", sepwidth = 0.1,margin=c(9,9))\n",
    "\n",
    "\n"
   ]
  },
  {
   "cell_type": "code",
   "execution_count": null,
   "metadata": {},
   "outputs": [],
   "source": [
    "f<-x[names(-sort(-F))[1:93],1]-x[names(-sort(-F))[1:93],2]\n",
    "names(f)<-names(-sort(-F))[1:93]\n",
    "id<-c(names(f[f>=2]),names(f[-f>=2]))"
   ]
  },
  {
   "cell_type": "code",
   "execution_count": null,
   "metadata": {},
   "outputs": [],
   "source": []
  },
  {
   "cell_type": "code",
   "execution_count": null,
   "metadata": {},
   "outputs": [],
   "source": [
    "d"
   ]
  },
  {
   "cell_type": "code",
   "execution_count": null,
   "metadata": {},
   "outputs": [],
   "source": [
    "# When in doubt, a threshold of 1 CPM in at least the minimum group's sample size is a good rule of thumb."
   ]
  },
  {
   "cell_type": "code",
   "execution_count": null,
   "metadata": {},
   "outputs": [],
   "source": [
    "# print(required_columns)\n",
    "# countdata <- cast(all, miRNA ~ sampleName, value= 'Total.miRNA.reads', fill= 0)\n",
    "# countdata"
   ]
  },
  {
   "cell_type": "code",
   "execution_count": null,
   "metadata": {},
   "outputs": [],
   "source": [
    "# myCPM <- cpm(countdata)\n",
    "myCPM <- countdata\n",
    "head(myCPM)"
   ]
  },
  {
   "cell_type": "code",
   "execution_count": null,
   "metadata": {},
   "outputs": [],
   "source": []
  },
  {
   "cell_type": "code",
   "execution_count": null,
   "metadata": {},
   "outputs": [],
   "source": [
    "# Which values in myCPM are greater than 0.5?\n",
    "thresh <- myCPM > 1\n",
    "# This produces a logical matrix with TRUEs and FALSEs\n",
    "head(thresh)"
   ]
  },
  {
   "cell_type": "code",
   "execution_count": null,
   "metadata": {},
   "outputs": [],
   "source": [
    "table(rowSums(thresh))"
   ]
  },
  {
   "cell_type": "code",
   "execution_count": null,
   "metadata": {},
   "outputs": [],
   "source": [
    "# we would like to keep genes that have at least 5 TRUES in each row of thresh\n",
    "keep <- rowSums(thresh) >= 7\n",
    "# Subset the rows of countdata to keep the more highly expressed genes\n",
    "counts.keep <- countdata[keep,]\n",
    "summary(keep)"
   ]
  },
  {
   "cell_type": "code",
   "execution_count": null,
   "metadata": {},
   "outputs": [],
   "source": []
  },
  {
   "cell_type": "code",
   "execution_count": null,
   "metadata": {},
   "outputs": [],
   "source": [
    "dim(counts.keep)\n"
   ]
  },
  {
   "cell_type": "code",
   "execution_count": null,
   "metadata": {},
   "outputs": [],
   "source": [
    "# rownames(counts.keep) <- counts.keep$miRNA\n",
    "# counts.keep$miRNA <- NULL\n",
    "# counts.keep\n",
    "\n",
    "# Get log2 counts per million\n",
    "logcounts <- cpm(countdata, log=TRUE)\n",
    "# Check distributions of samples using boxplots\n",
    "boxplot(logcounts, xlab=\"\", ylab=\"Log2 reads per million\")\n",
    "# Let's add a blue horizontal line that corresponds to the median logCPM\n",
    "# abline(h=median(logcounts),col=\"blue\")\n",
    "title(\"Boxplots of logCPMs (unnormalised)\")\n"
   ]
  },
  {
   "cell_type": "code",
   "execution_count": null,
   "metadata": {},
   "outputs": [],
   "source": [
    "\n",
    "y2 <- DGEList(countdata)\n",
    "# Apply normalisation to DGEList object\n",
    "y2 <- calcNormFactors(y2)\n",
    "y2"
   ]
  },
  {
   "cell_type": "code",
   "execution_count": null,
   "metadata": {
    "scrolled": true
   },
   "outputs": [],
   "source": [
    "y <- DGEList(counts.keep)\n",
    "# Apply normalisation to DGEList object\n",
    "y <- calcNormFactors(y)\n",
    "y"
   ]
  },
  {
   "cell_type": "code",
   "execution_count": null,
   "metadata": {},
   "outputs": [],
   "source": [
    "hist(log2(all$RPM..reads.per.million), main='Histogram of log2 of miRNA reads per million')"
   ]
  },
  {
   "cell_type": "code",
   "execution_count": null,
   "metadata": {},
   "outputs": [],
   "source": [
    "hist(log2(all$\"Total.miRNA.reads\"), main='Histogram of log2 of Total miRNA reads')\n"
   ]
  },
  {
   "cell_type": "code",
   "execution_count": null,
   "metadata": {},
   "outputs": [],
   "source": [
    "counts.keep"
   ]
  },
  {
   "cell_type": "code",
   "execution_count": null,
   "metadata": {},
   "outputs": [],
   "source": [
    "sampleinfo <- all[row.names(unique(all[,c(\"sampleName\", \"cellType\", \"healthy\")])),][,c(\"sampleName\", \"healthy\", \"cellType\")]\n",
    "row.names(sampleinfo) <- NULL\n",
    "\n",
    "data.frame(sampleinfo$CellType)\n",
    "head(sampleinfo)"
   ]
  },
  {
   "cell_type": "code",
   "execution_count": null,
   "metadata": {},
   "outputs": [],
   "source": [
    "labels <- paste(sampleinfo$sampleName, sampleinfo$cellType, sampleinfo$healthy)\n",
    "group <- paste(sampleinfo$healthy,sep=\".\")\n",
    "group <- factor(group)\n",
    "glMDSPlot(y, labels=labels, groups=group, folder=\"mds\")"
   ]
  },
  {
   "cell_type": "code",
   "execution_count": null,
   "metadata": {},
   "outputs": [],
   "source": [
    "# our groups\n",
    "group"
   ]
  },
  {
   "cell_type": "code",
   "execution_count": null,
   "metadata": {},
   "outputs": [],
   "source": [
    "# Specify a design matrix without an intercept term\n",
    "design <- model.matrix(~ 0 + group)"
   ]
  },
  {
   "cell_type": "code",
   "execution_count": null,
   "metadata": {},
   "outputs": [],
   "source": [
    "colnames(design) <- levels(group)"
   ]
  },
  {
   "cell_type": "code",
   "execution_count": null,
   "metadata": {
    "scrolled": true
   },
   "outputs": [],
   "source": [
    "par(mfrow=c(1,1))\n",
    "v <- voom(y,design,plot = TRUE)"
   ]
  },
  {
   "cell_type": "code",
   "execution_count": null,
   "metadata": {},
   "outputs": [],
   "source": [
    "par(mfrow=c(1,2))\n",
    "boxplot(logcounts, xlab=\"\", ylab=\"Log2 counts per million\",las=2,main=\"Unnormalised logCPM\")\n",
    "## Let's add a blue horizontal line that corresponds to the median logCPM\n",
    "abline(h=median(logcounts),col=\"blue\")\n",
    "boxplot(v$E, xlab=\"\", ylab=\"Log2 counts per million\",las=2,main=\"Voom transformed logCPM\")\n",
    "## Let's add a blue horizontal line that corresponds to the median logCPM\n",
    "abline(h=median(v$E),col=\"blue\")"
   ]
  },
  {
   "cell_type": "code",
   "execution_count": null,
   "metadata": {},
   "outputs": [],
   "source": [
    "names(v)"
   ]
  },
  {
   "cell_type": "code",
   "execution_count": null,
   "metadata": {
    "scrolled": true
   },
   "outputs": [],
   "source": [
    "fit <- lmFit(v)\n",
    "names(fit)"
   ]
  },
  {
   "cell_type": "code",
   "execution_count": null,
   "metadata": {},
   "outputs": [],
   "source": [
    "# we want to compare healthy naive cells to pre-t1 naive cells\n",
    "cont.matrix <- makeContrasts(B.healthVsdiab=Naive.TRUE - Naive.FALSE,levels=design)\n",
    "cont.matrix"
   ]
  },
  {
   "cell_type": "code",
   "execution_count": null,
   "metadata": {},
   "outputs": [],
   "source": [
    "fit.cont <- contrasts.fit(fit, cont.matrix)\n",
    "fit.cont <- eBayes(fit.cont)\n",
    "dim(fit.cont)\n"
   ]
  },
  {
   "cell_type": "code",
   "execution_count": null,
   "metadata": {},
   "outputs": [],
   "source": [
    "summa.fit <- decideTests(fit.cont)\n",
    "summary(summa.fit)"
   ]
  },
  {
   "cell_type": "code",
   "execution_count": null,
   "metadata": {},
   "outputs": [],
   "source": [
    "topTable(fit.cont,coef=\"B.healthVsdiab\",sort.by=\"logFC\", number=30)\n"
   ]
  },
  {
   "cell_type": "code",
   "execution_count": null,
   "metadata": {},
   "outputs": [],
   "source": [
    "par(mfrow=c(1,2))\n",
    "plotMD(fit.cont,coef=1,status=summa.fit[,\"B.healthVsdiab\"], values = c(-1, 1))\n",
    "\n",
    "# For the volcano plot we have to specify how many of the top genes to highlight.\n",
    "# We can also specify that we want to plot the gene symbol for the highlighted genes.\n",
    "# let's highlight the top 100 most DE genes\n",
    "volcanoplot(fit.cont,coef=1,highlight=100,names=fit.cont$genes$SYMBOL)"
   ]
  },
  {
   "cell_type": "code",
   "execution_count": null,
   "metadata": {},
   "outputs": [],
   "source": [
    "fit.cont"
   ]
  },
  {
   "cell_type": "code",
   "execution_count": null,
   "metadata": {},
   "outputs": [],
   "source": []
  }
 ],
 "metadata": {
  "kernelspec": {
   "display_name": "R",
   "language": "R",
   "name": "ir"
  },
  "language_info": {
   "codemirror_mode": "r",
   "file_extension": ".r",
   "mimetype": "text/x-r-source",
   "name": "R",
   "pygments_lexer": "r",
   "version": "3.6.3"
  }
 },
 "nbformat": 4,
 "nbformat_minor": 4
}
