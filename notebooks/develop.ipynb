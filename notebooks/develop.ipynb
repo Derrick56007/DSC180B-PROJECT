{
 "cells": [
  {
   "cell_type": "code",
   "execution_count": 1,
   "metadata": {},
   "outputs": [],
   "source": [
    "%load_ext autoreload\n",
    "%autoreload 2"
   ]
  },
  {
   "cell_type": "code",
   "execution_count": 24,
   "metadata": {},
   "outputs": [],
   "source": [
    "import sys\n",
    "import json\n",
    "import subprocess\n",
    "import os\n",
    "import gzip\n",
    "import pandas as pd\n",
    "\n",
    "# add library code to path\n",
    "sys.path.insert(0, r'src/')"
   ]
  },
  {
   "cell_type": "code",
   "execution_count": 4,
   "metadata": {},
   "outputs": [],
   "source": [
    "cfg = json.load(open(\"../config/config.json\"))"
   ]
  },
  {
   "cell_type": "code",
   "execution_count": 13,
   "metadata": {},
   "outputs": [],
   "source": [
    "def mkdir(d):\n",
    "    if not os.path.exists(d):\n",
    "        os.mkdir(d)"
   ]
  },
  {
   "cell_type": "code",
   "execution_count": 26,
   "metadata": {},
   "outputs": [
    {
     "name": "stdout",
     "output_type": "stream",
     "text": [
      "    miRNA\\tChromosome\\tPosition\\tStrand\\tTotal miRNA reads\\tRPM (reads per million)\n",
      "0              hsa-miR-378c\\tchr10\\t132760851\\t-\\t7\\t1                             \n",
      "1               hsa-mir-1321\\tchrX\\t85090785\\t+\\t26\\t6                             \n",
      "2                hsa-miR-378d\\tchr8\\t94928250\\t-\\t2\\t1                             \n",
      "3              hsa-miR-2110\\tchr10\\t115933864\\t-\\t5\\t1                             \n",
      "4                 hsa-mir-200b\\tchr1\\t1102484\\t+\\t2\\t1                             \n",
      "..                                                 ...                             \n",
      "272             hsa-miR-100\\tchr11\\t122022937\\t-\\t1\\t1                             \n",
      "273               hsa-miR-101\\tchr9\\t4850297\\t+\\t40\\t9                             \n",
      "274            hsa-mir-3908\\tchr12\\t124020956\\t+\\t1\\t1                             \n",
      "275              hsa-miR-107\\tchr10\\t91352504\\t-\\t6\\t1                             \n",
      "276           hsa-mir-146b\\tchr10\\t104196269\\t+\\t15\\t3                             \n",
      "\n",
      "[277 rows x 1 columns]\n"
     ]
    }
   ],
   "source": [
    "import tarfile\n",
    "tar = tarfile.open(\"../data/raw/GSE44639_RAW.tar\")\n",
    "\n",
    "mkdir('../data/temp')\n",
    "\n",
    "tar.extractall(\"../data/temp\")\n",
    "\n",
    "for name in tar.getnames():\n",
    "#     with gzip.open('../data/temp/' + name,'rt') as f:\n",
    "#         print(f)\n",
    "    df = pd.read_csv(gzip.open('../data/temp/' + name,'rt'))\n",
    "    print(df)\n",
    "    break\n",
    "    \n",
    "tar.close()"
   ]
  },
  {
   "cell_type": "code",
   "execution_count": null,
   "metadata": {},
   "outputs": [],
   "source": []
  }
 ],
 "metadata": {
  "kernelspec": {
   "display_name": "Python 3",
   "language": "python",
   "name": "python3"
  },
  "language_info": {
   "codemirror_mode": {
    "name": "ipython",
    "version": 3
   },
   "file_extension": ".py",
   "mimetype": "text/x-python",
   "name": "python",
   "nbconvert_exporter": "python",
   "pygments_lexer": "ipython3",
   "version": "3.8.2"
  }
 },
 "nbformat": 4,
 "nbformat_minor": 4
}
