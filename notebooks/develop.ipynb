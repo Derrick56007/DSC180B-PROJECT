{
 "cells": [
  {
   "cell_type": "code",
   "execution_count": 1,
   "metadata": {},
   "outputs": [],
   "source": [
    "%load_ext autoreload\n",
    "%autoreload 2"
   ]
  },
  {
   "cell_type": "code",
   "execution_count": 24,
   "metadata": {},
   "outputs": [],
   "source": [
    "import sys\n",
    "import json\n",
    "import subprocess\n",
    "import os\n",
    "import gzip\n",
    "import pandas as pd\n",
    "\n",
    "# add library code to path\n",
    "sys.path.insert(0, r'src/')"
   ]
  },
  {
   "cell_type": "code",
   "execution_count": 4,
   "metadata": {},
   "outputs": [],
   "source": [
    "cfg = json.load(open(\"../config/config.json\"))"
   ]
  },
  {
   "cell_type": "code",
   "execution_count": 13,
   "metadata": {},
   "outputs": [],
   "source": [
    "def mkdir(d):\n",
    "    if not os.path.exists(d):\n",
    "        os.mkdir(d)"
   ]
  },
  {
   "cell_type": "code",
   "execution_count": 27,
   "metadata": {},
   "outputs": [
    {
     "name": "stdout",
     "output_type": "stream",
     "text": [
      "            miRNA Chromosome   Position Strand  Total miRNA reads  \\\n",
      "0    hsa-miR-378c      chr10  132760851      -                  7   \n",
      "1    hsa-mir-1321       chrX   85090785      +                 26   \n",
      "2    hsa-miR-378d       chr8   94928250      -                  2   \n",
      "3    hsa-miR-2110      chr10  115933864      -                  5   \n",
      "4    hsa-mir-200b       chr1    1102484      +                  2   \n",
      "..            ...        ...        ...    ...                ...   \n",
      "272   hsa-miR-100      chr11  122022937      -                  1   \n",
      "273   hsa-miR-101       chr9    4850297      +                 40   \n",
      "274  hsa-mir-3908      chr12  124020956      +                  1   \n",
      "275   hsa-miR-107      chr10   91352504      -                  6   \n",
      "276  hsa-mir-146b      chr10  104196269      +                 15   \n",
      "\n",
      "     RPM (reads per million)  \n",
      "0                          1  \n",
      "1                          6  \n",
      "2                          1  \n",
      "3                          1  \n",
      "4                          1  \n",
      "..                       ...  \n",
      "272                        1  \n",
      "273                        9  \n",
      "274                        1  \n",
      "275                        1  \n",
      "276                        3  \n",
      "\n",
      "[277 rows x 6 columns]\n"
     ]
    }
   ],
   "source": [
    "import tarfile\n",
    "tar = tarfile.open(\"../data/raw/GSE44639_RAW.tar\")\n",
    "\n",
    "mkdir('../data/temp')\n",
    "\n",
    "tar.extractall(\"../data/temp\")\n",
    "\n",
    "for name in tar.getnames():\n",
    "    df = pd.read_csv(gzip.open('../data/temp/' + name,'rt'), sep='\\t')\n",
    "    print(df)\n",
    "    \n",
    "tar.close()"
   ]
  },
  {
   "cell_type": "code",
   "execution_count": null,
   "metadata": {},
   "outputs": [],
   "source": []
  }
 ],
 "metadata": {
  "kernelspec": {
   "display_name": "Python 3",
   "language": "python",
   "name": "python3"
  },
  "language_info": {
   "codemirror_mode": {
    "name": "ipython",
    "version": 3
   },
   "file_extension": ".py",
   "mimetype": "text/x-python",
   "name": "python",
   "nbconvert_exporter": "python",
   "pygments_lexer": "ipython3",
   "version": "3.8.2"
  }
 },
 "nbformat": 4,
 "nbformat_minor": 4
}
